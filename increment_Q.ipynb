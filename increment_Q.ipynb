{
 "cells": [
  {
   "cell_type": "code",
   "execution_count": 1,
   "metadata": {},
   "outputs": [],
   "source": [
    "import copy"
   ]
  },
  {
   "cell_type": "code",
   "execution_count": 2,
   "metadata": {},
   "outputs": [],
   "source": [
    "def readData(filename):\n",
    "    graph = {}\n",
    "    f = open(filename,'r')\n",
    "    for line in f.readlines():\n",
    "        line= line.strip('\\n').split(' ')\n",
    "        u,v = int(line[0]),int(line[1])\n",
    "        graph.setdefault(u,[]).append(v)\n",
    "        graph.setdefault(v,[]).append(u)\n",
    "    return graph"
   ]
  },
  {
   "cell_type": "code",
   "execution_count": 3,
   "metadata": {},
   "outputs": [],
   "source": [
    "def m_num(map_dict):\n",
    "    m_num=0\n",
    "    for key in map_dict.keys():\n",
    "        m_num+=len(map_dict[key])\n",
    "    return(m_num/2)"
   ]
  },
  {
   "cell_type": "code",
   "execution_count": 4,
   "metadata": {},
   "outputs": [],
   "source": [
    "def degree_cal(map_dict):\n",
    "    degree=map_dict.copy()\n",
    "    for key in degree:\n",
    "        degree[key]=len(map_dict[key])\n",
    "    return(degree)"
   ]
  },
  {
   "cell_type": "code",
   "execution_count": 5,
   "metadata": {},
   "outputs": [],
   "source": [
    "def degree_new(degree):\n",
    "    degree[new_community]+=degree[merged_community]\n",
    "    del degree[merged_community]\n",
    "    return degree"
   ]
  },
  {
   "cell_type": "code",
   "execution_count": 6,
   "metadata": {},
   "outputs": [],
   "source": [
    "def initially_Q(degree):\n",
    "    d=0\n",
    "    for i in degree.keys():\n",
    "        d+=degree[i]*degree[i]\n",
    "    return(-d/(4*m*m))"
   ]
  },
  {
   "cell_type": "code",
   "execution_count": 7,
   "metadata": {},
   "outputs": [],
   "source": [
    "def change_Q(map_dict):\n",
    "    change_Q=copy.deepcopy(map_dict)\n",
    "    for key in map_dict:\n",
    "        for value in map_dict[key]:\n",
    "            change_Q[key][change_Q[key].index(value)]=1/m-degree[key]*degree[value]/(2*m*m)\n",
    "    return(change_Q)"
   ]
  },
  {
   "cell_type": "code",
   "execution_count": 8,
   "metadata": {},
   "outputs": [],
   "source": [
    "def changeTagRound(increment_Q):\n",
    "    max_increment_Q=0\n",
    "    x=0;y=0\n",
    "    for key in increment_Q.keys():\n",
    "        for i in range(len(increment_Q[key])):\n",
    "            if increment_Q[key][i]>max_increment_Q:\n",
    "                max_increment_Q=increment_Q[key][i];y=i;x=key\n",
    "    if x!=0:\n",
    "        for v in tag_dict.keys():\n",
    "            if tag_dict[v]==x:\n",
    "                tag_dict[v]=map_dict[x][y]\n",
    "    if x!=0:\n",
    "        return(tag_dict,x,map_dict[x][y],max_increment_Q)\n",
    "    else:return(tag_dict,x,0,max_increment_Q)"
   ]
  },
  {
   "cell_type": "code",
   "execution_count": 9,
   "metadata": {},
   "outputs": [],
   "source": [
    "def update_matrix(map_dict,increment_Q):\n",
    "    new_map_dict=copy.deepcopy(map_dict)\n",
    "    new_increment_Q=copy.deepcopy(increment_Q)\n",
    "    for l in map_dict[merged_community]:\n",
    "        if l==new_community or l in map_dict[new_community]:continue\n",
    "        new_map_dict[new_community].append(l)\n",
    "        new_increment_Q[new_community].append(increment_Q[merged_community][map_dict[merged_community].index(l)])\n",
    "        new_map_dict[l].append(new_community)\n",
    "        new_increment_Q[l].append(increment_Q[merged_community][map_dict[merged_community].index(l)])\n",
    "    for i in map_dict[merged_community]:\n",
    "        new_map_dict[i].remove(merged_community)\n",
    "        del new_increment_Q[i][map_dict[i].index(merged_community)]\n",
    "    del new_map_dict[merged_community]\n",
    "    del new_increment_Q[merged_community]\n",
    "    for k in new_map_dict[new_community]:\n",
    "        if new_community in map_dict[k] and merged_community in map_dict[k]:\n",
    "            new_increment_Q[new_community][new_map_dict[new_community].index(k)]=increment_Q[k][map_dict[k].index(merged_community)]+increment_Q[k][map_dict[k].index(new_community)]\n",
    "        elif new_community not in map_dict[k] and merged_community in map_dict[k]:\n",
    "            new_increment_Q[new_community][new_map_dict[new_community].index(k)]=increment_Q[k][map_dict[k].index(merged_community)]-degree[new_community]*degree[k]/(2*m*m)\n",
    "        elif new_community in map_dict[k] and merged_community not in map_dict[k]:\n",
    "            new_increment_Q[new_community][new_map_dict[new_community].index(k)]=increment_Q[k][map_dict[k].index(new_community)]-degree[merged_community]*degree[k]/(2*m*m)\n",
    "        new_increment_Q[k][new_map_dict[k].index(new_community)]=new_increment_Q[new_community][new_map_dict[new_community].index(k)]    \n",
    "    return(new_map_dict,new_increment_Q)"
   ]
  },
  {
   "cell_type": "code",
   "execution_count": 11,
   "metadata": {},
   "outputs": [],
   "source": [
    "Q=-0.5\n",
    "map_dict=readData(r'C:\\Users\\李威\\Desktop\\test_data.txt')\n",
    "tag_dict = dict(zip(map_dict.keys(),map_dict.keys()))\n",
    "m=m_num(map_dict)\n",
    "degree=degree_cal(map_dict)\n",
    "Q_new=initially_Q(degree)\n",
    "max_increment_Q=Q_new-Q\n",
    "increment_Q=change_Q(map_dict)\n",
    "while(max_increment_Q>0):\n",
    "    Q = Q_new\n",
    "    tag_dict,merged_community,new_community,max_increment_Q=changeTagRound(increment_Q)\n",
    "    if max_increment_Q>0:\n",
    "        Q_new+=max_increment_Q\n",
    "        map_dict,increment_Q=update_matrix(map_dict,increment_Q)\n",
    "        degree=degree_new(degree)"
   ]
  },
  {
   "cell_type": "code",
   "execution_count": 12,
   "metadata": {},
   "outputs": [
    {
     "data": {
      "text/plain": [
       "0.66"
      ]
     },
     "execution_count": 12,
     "metadata": {},
     "output_type": "execute_result"
    }
   ],
   "source": [
    "Q"
   ]
  },
  {
   "cell_type": "code",
   "execution_count": 14,
   "metadata": {},
   "outputs": [
    {
     "data": {
      "text/plain": [
       "{1: 10, 2: 10, 3: 10, 10: 10, 4: 6, 5: 6, 6: 6, 7: 9, 8: 9, 9: 9}"
      ]
     },
     "execution_count": 14,
     "metadata": {},
     "output_type": "execute_result"
    }
   ],
   "source": [
    "tag_dict"
   ]
  }
 ],
 "metadata": {
  "kernelspec": {
   "display_name": "Python 3",
   "language": "python",
   "name": "python3"
  },
  "language_info": {
   "codemirror_mode": {
    "name": "ipython",
    "version": 3
   },
   "file_extension": ".py",
   "mimetype": "text/x-python",
   "name": "python",
   "nbconvert_exporter": "python",
   "pygments_lexer": "ipython3",
   "version": "3.7.2"
  }
 },
 "nbformat": 4,
 "nbformat_minor": 2
}
